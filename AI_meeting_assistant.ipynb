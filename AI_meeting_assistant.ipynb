{
  "nbformat": 4,
  "nbformat_minor": 0,
  "metadata": {
    "colab": {
      "provenance": [],
      "gpuType": "T4"
    },
    "kernelspec": {
      "name": "python3",
      "display_name": "Python 3"
    },
    "language_info": {
      "name": "python"
    },
    "accelerator": "GPU"
  },
  "cells": [
    {
      "cell_type": "markdown",
      "source": [
        "**MODEL 2**"
      ],
      "metadata": {
        "id": "hnmzk9efRUJJ"
      }
    },
    {
      "cell_type": "markdown",
      "source": [
        "**2. Meeting Summarizer + Action Tracker for Indian Teams**"
      ],
      "metadata": {
        "id": "Pnt4luaxXQcv"
      }
    },
    {
      "cell_type": "code",
      "source": [
        "# 🔄 End-to-End Meeting Assistant\n",
        "\n",
        "# ✅ Step 1: Install required libraries\n",
        "!pip install -q git+https://github.com/openai/whisper.git\n",
        "!pip install -q requests fpdf cryptography\n"
      ],
      "metadata": {
        "colab": {
          "base_uri": "https://localhost:8080/"
        },
        "id": "kKwATqD6RxiY",
        "outputId": "216ae20e-95aa-420f-a006-d6930febae5b"
      },
      "execution_count": null,
      "outputs": [
        {
          "output_type": "stream",
          "name": "stdout",
          "text": [
            "  Installing build dependencies ... \u001b[?25l\u001b[?25hdone\n",
            "  Getting requirements to build wheel ... \u001b[?25l\u001b[?25hdone\n",
            "  Preparing metadata (pyproject.toml) ... \u001b[?25l\u001b[?25hdone\n"
          ]
        }
      ]
    },
    {
      "cell_type": "code",
      "source": [
        "import whisper\n",
        "import os\n",
        "import json\n",
        "import re\n",
        "import requests\n",
        "import shutil\n",
        "from fpdf import FPDF\n",
        "from cryptography.fernet import Fernet\n",
        "from google.colab import files\n",
        "from IPython.display import display, Audio"
      ],
      "metadata": {
        "id": "VLlVXDZVR-Xp"
      },
      "execution_count": null,
      "outputs": []
    },
    {
      "cell_type": "code",
      "source": [
        "# ✅ Step 2: Upload audio file\n",
        "print(\"⬆️ Upload your meeting audio file (.mp3/.wav)\")\n",
        "uploaded = files.upload()\n",
        "audio_file = list(uploaded.keys())[0]"
      ],
      "metadata": {
        "colab": {
          "base_uri": "https://localhost:8080/",
          "height": 91
        },
        "id": "GQnhhIQqSAeg",
        "outputId": "d8d0c988-878a-480e-bd36-c04cd292c7dd"
      },
      "execution_count": null,
      "outputs": [
        {
          "output_type": "stream",
          "name": "stdout",
          "text": [
            "⬆️ Upload your meeting audio file (.mp3/.wav)\n"
          ]
        },
        {
          "output_type": "display_data",
          "data": {
            "text/plain": [
              "<IPython.core.display.HTML object>"
            ],
            "text/html": [
              "\n",
              "     <input type=\"file\" id=\"files-859adfa0-09e4-4e14-9e8f-9f9fcffd59ed\" name=\"files[]\" multiple disabled\n",
              "        style=\"border:none\" />\n",
              "     <output id=\"result-859adfa0-09e4-4e14-9e8f-9f9fcffd59ed\">\n",
              "      Upload widget is only available when the cell has been executed in the\n",
              "      current browser session. Please rerun this cell to enable.\n",
              "      </output>\n",
              "      <script>// Copyright 2017 Google LLC\n",
              "//\n",
              "// Licensed under the Apache License, Version 2.0 (the \"License\");\n",
              "// you may not use this file except in compliance with the License.\n",
              "// You may obtain a copy of the License at\n",
              "//\n",
              "//      http://www.apache.org/licenses/LICENSE-2.0\n",
              "//\n",
              "// Unless required by applicable law or agreed to in writing, software\n",
              "// distributed under the License is distributed on an \"AS IS\" BASIS,\n",
              "// WITHOUT WARRANTIES OR CONDITIONS OF ANY KIND, either express or implied.\n",
              "// See the License for the specific language governing permissions and\n",
              "// limitations under the License.\n",
              "\n",
              "/**\n",
              " * @fileoverview Helpers for google.colab Python module.\n",
              " */\n",
              "(function(scope) {\n",
              "function span(text, styleAttributes = {}) {\n",
              "  const element = document.createElement('span');\n",
              "  element.textContent = text;\n",
              "  for (const key of Object.keys(styleAttributes)) {\n",
              "    element.style[key] = styleAttributes[key];\n",
              "  }\n",
              "  return element;\n",
              "}\n",
              "\n",
              "// Max number of bytes which will be uploaded at a time.\n",
              "const MAX_PAYLOAD_SIZE = 100 * 1024;\n",
              "\n",
              "function _uploadFiles(inputId, outputId) {\n",
              "  const steps = uploadFilesStep(inputId, outputId);\n",
              "  const outputElement = document.getElementById(outputId);\n",
              "  // Cache steps on the outputElement to make it available for the next call\n",
              "  // to uploadFilesContinue from Python.\n",
              "  outputElement.steps = steps;\n",
              "\n",
              "  return _uploadFilesContinue(outputId);\n",
              "}\n",
              "\n",
              "// This is roughly an async generator (not supported in the browser yet),\n",
              "// where there are multiple asynchronous steps and the Python side is going\n",
              "// to poll for completion of each step.\n",
              "// This uses a Promise to block the python side on completion of each step,\n",
              "// then passes the result of the previous step as the input to the next step.\n",
              "function _uploadFilesContinue(outputId) {\n",
              "  const outputElement = document.getElementById(outputId);\n",
              "  const steps = outputElement.steps;\n",
              "\n",
              "  const next = steps.next(outputElement.lastPromiseValue);\n",
              "  return Promise.resolve(next.value.promise).then((value) => {\n",
              "    // Cache the last promise value to make it available to the next\n",
              "    // step of the generator.\n",
              "    outputElement.lastPromiseValue = value;\n",
              "    return next.value.response;\n",
              "  });\n",
              "}\n",
              "\n",
              "/**\n",
              " * Generator function which is called between each async step of the upload\n",
              " * process.\n",
              " * @param {string} inputId Element ID of the input file picker element.\n",
              " * @param {string} outputId Element ID of the output display.\n",
              " * @return {!Iterable<!Object>} Iterable of next steps.\n",
              " */\n",
              "function* uploadFilesStep(inputId, outputId) {\n",
              "  const inputElement = document.getElementById(inputId);\n",
              "  inputElement.disabled = false;\n",
              "\n",
              "  const outputElement = document.getElementById(outputId);\n",
              "  outputElement.innerHTML = '';\n",
              "\n",
              "  const pickedPromise = new Promise((resolve) => {\n",
              "    inputElement.addEventListener('change', (e) => {\n",
              "      resolve(e.target.files);\n",
              "    });\n",
              "  });\n",
              "\n",
              "  const cancel = document.createElement('button');\n",
              "  inputElement.parentElement.appendChild(cancel);\n",
              "  cancel.textContent = 'Cancel upload';\n",
              "  const cancelPromise = new Promise((resolve) => {\n",
              "    cancel.onclick = () => {\n",
              "      resolve(null);\n",
              "    };\n",
              "  });\n",
              "\n",
              "  // Wait for the user to pick the files.\n",
              "  const files = yield {\n",
              "    promise: Promise.race([pickedPromise, cancelPromise]),\n",
              "    response: {\n",
              "      action: 'starting',\n",
              "    }\n",
              "  };\n",
              "\n",
              "  cancel.remove();\n",
              "\n",
              "  // Disable the input element since further picks are not allowed.\n",
              "  inputElement.disabled = true;\n",
              "\n",
              "  if (!files) {\n",
              "    return {\n",
              "      response: {\n",
              "        action: 'complete',\n",
              "      }\n",
              "    };\n",
              "  }\n",
              "\n",
              "  for (const file of files) {\n",
              "    const li = document.createElement('li');\n",
              "    li.append(span(file.name, {fontWeight: 'bold'}));\n",
              "    li.append(span(\n",
              "        `(${file.type || 'n/a'}) - ${file.size} bytes, ` +\n",
              "        `last modified: ${\n",
              "            file.lastModifiedDate ? file.lastModifiedDate.toLocaleDateString() :\n",
              "                                    'n/a'} - `));\n",
              "    const percent = span('0% done');\n",
              "    li.appendChild(percent);\n",
              "\n",
              "    outputElement.appendChild(li);\n",
              "\n",
              "    const fileDataPromise = new Promise((resolve) => {\n",
              "      const reader = new FileReader();\n",
              "      reader.onload = (e) => {\n",
              "        resolve(e.target.result);\n",
              "      };\n",
              "      reader.readAsArrayBuffer(file);\n",
              "    });\n",
              "    // Wait for the data to be ready.\n",
              "    let fileData = yield {\n",
              "      promise: fileDataPromise,\n",
              "      response: {\n",
              "        action: 'continue',\n",
              "      }\n",
              "    };\n",
              "\n",
              "    // Use a chunked sending to avoid message size limits. See b/62115660.\n",
              "    let position = 0;\n",
              "    do {\n",
              "      const length = Math.min(fileData.byteLength - position, MAX_PAYLOAD_SIZE);\n",
              "      const chunk = new Uint8Array(fileData, position, length);\n",
              "      position += length;\n",
              "\n",
              "      const base64 = btoa(String.fromCharCode.apply(null, chunk));\n",
              "      yield {\n",
              "        response: {\n",
              "          action: 'append',\n",
              "          file: file.name,\n",
              "          data: base64,\n",
              "        },\n",
              "      };\n",
              "\n",
              "      let percentDone = fileData.byteLength === 0 ?\n",
              "          100 :\n",
              "          Math.round((position / fileData.byteLength) * 100);\n",
              "      percent.textContent = `${percentDone}% done`;\n",
              "\n",
              "    } while (position < fileData.byteLength);\n",
              "  }\n",
              "\n",
              "  // All done.\n",
              "  yield {\n",
              "    response: {\n",
              "      action: 'complete',\n",
              "    }\n",
              "  };\n",
              "}\n",
              "\n",
              "scope.google = scope.google || {};\n",
              "scope.google.colab = scope.google.colab || {};\n",
              "scope.google.colab._files = {\n",
              "  _uploadFiles,\n",
              "  _uploadFilesContinue,\n",
              "};\n",
              "})(self);\n",
              "</script> "
            ]
          },
          "metadata": {}
        },
        {
          "output_type": "stream",
          "name": "stdout",
          "text": [
            "Saving sample2_audio.mp3 to sample2_audio.mp3\n"
          ]
        }
      ]
    },
    {
      "cell_type": "code",
      "source": [
        "# ✅ Step 3: Transcribe using Whisper\n",
        "model = whisper.load_model(\"base\")\n",
        "print(f\"\\U0001F50A Transcribing: {audio_file} ...\")\n",
        "result = model.transcribe(audio_file)\n",
        "transcript = result['text']"
      ],
      "metadata": {
        "colab": {
          "base_uri": "https://localhost:8080/"
        },
        "id": "GWsyO3JHSCxO",
        "outputId": "8abe58de-67b7-4113-e3c5-6de5611ee3b5"
      },
      "execution_count": null,
      "outputs": [
        {
          "output_type": "stream",
          "name": "stdout",
          "text": [
            "🔊 Transcribing: sample2_audio.mp3 ...\n"
          ]
        }
      ]
    },
    {
      "cell_type": "code",
      "source": [
        "# ✅ Step 4: Display transcript\n",
        "print(\"\\n\\U0001F4DD Transcript:\")\n",
        "print(transcript)"
      ],
      "metadata": {
        "colab": {
          "base_uri": "https://localhost:8080/"
        },
        "id": "1o4-r1jnSE5t",
        "outputId": "c0c8bd9e-224f-4d49-8c3f-248c421add48"
      },
      "execution_count": null,
      "outputs": [
        {
          "output_type": "stream",
          "name": "stdout",
          "text": [
            "\n",
            "📝 Transcript:\n",
            " Abyshek to documents Sprint delays by Friday. A deedy to build automation prototype by Thursday. Set new weekly chickpeo. Doodle poll to follow.\n"
          ]
        }
      ]
    },
    {
      "cell_type": "code",
      "source": [
        "# ✅ Step 5: Rule-based Task Extractor (Fallback if LLM not used)\n",
        "def extract_tasks(transcript):\n",
        "    lines = transcript.split(\". \")\n",
        "    tasks = []\n",
        "    for line in lines:\n",
        "        if re.search(r'(?i)\\b(should|must|need to|assign|complete|by|deadline|responsible for|follow up|send|update)\\b', line):\n",
        "            tasks.append(line.strip())\n",
        "    return tasks"
      ],
      "metadata": {
        "id": "7NHtjTZLSE2N"
      },
      "execution_count": null,
      "outputs": []
    },
    {
      "cell_type": "code",
      "source": [
        "# ✅ Step 6: Summary + Tasks (LLM fallback to rule-based)\n",
        "MISTRAL_API_KEY = \"YOUR_MISTRAL_API_KEY\"\n",
        "MISTRAL_API_URL = \"https://api.mistral.ai/v1/chat/completions\""
      ],
      "metadata": {
        "id": "MeJnxg2_SE0O"
      },
      "execution_count": null,
      "outputs": []
    },
    {
      "cell_type": "code",
      "source": [
        "import re\n",
        "import requests\n",
        "\n",
        "def generate_summary_and_tasks(transcript_text):\n",
        "    try:\n",
        "        headers = {\n",
        "            \"Authorization\": f\"Bearer {MISTRAL_API_KEY}\",\n",
        "            \"Content-Type\": \"application/json\"\n",
        "        }\n",
        "        prompt = f\"\"\"\n",
        "    Act as an AI meeting assistant. Your task is to deeply analyze the provided transcript of a multi-lingual meeting (could be in English, Hindi, or Tamil) and extract structured insights. Return the following:\n",
        "\n",
        "        1. **Concise Summary**: A 3-4 line overview highlighting the main discussion themes.\n",
        "        2. **Action Points**:\n",
        "            - Bullet points listing key tasks\n",
        "            - Include responsible individuals (if mentioned)\n",
        "            - Add deadlines or due dates (if mentioned)\n",
        "            - Group them by categories if possible (e.g., technical, admin, client-related)\n",
        "        3. **Meeting Sentiment (optional)**: Was the tone collaborative, urgent, confused, etc.?\n",
        "        4. **Critical Decisions Taken** (if any): Mention any conclusions or approvals.\n",
        "\n",
        "        Transcript:\n",
        "        {transcript_text}\n",
        "        \"\"\"\n",
        "\n",
        "        data = {\n",
        "            \"model\": \"mistral-medium\",\n",
        "            \"messages\": [\n",
        "                {\"role\": \"user\", \"content\": prompt}\n",
        "            ],\n",
        "            \"temperature\": 0.3\n",
        "        }\n",
        "\n",
        "        response = requests.post(MISTRAL_API_URL, headers=headers, json=data)\n",
        "        result = response.json()\n",
        "        return result['choices'][0]['message']['content']\n",
        "    except Exception as e: # Catching a broader exception to handle potential API errors\n",
        "        print(f\"Error during LLM processing: {e}\") # Print the actual error\n",
        "        return \"\\n\\nRule-based Tasks:\\n\" + \"\\n\".join(extract_tasks(transcript_text))\n",
        "\n",
        "print(\"\\n\\U0001F9D0 Generating summary and tasks...\")\n",
        "output = generate_summary_and_tasks(transcript) # Changed transcription to transcript\n",
        "print(\"\\n✅ Summary + Tasks:\")\n",
        "print(output)"
      ],
      "metadata": {
        "colab": {
          "base_uri": "https://localhost:8080/"
        },
        "id": "gVrnLWDASEyF",
        "outputId": "8e4c9ddc-43f4-4ead-e935-57132e19ca8c"
      },
      "execution_count": null,
      "outputs": [
        {
          "output_type": "stream",
          "name": "stdout",
          "text": [
            "\n",
            "🧐 Generating summary and tasks...\n",
            "Error during LLM processing: Expecting value: line 1 column 1 (char 0)\n",
            "\n",
            "✅ Summary + Tasks:\n",
            "\n",
            "\n",
            "Rule-based Tasks:\n",
            "Abyshek to documents Sprint delays by Friday\n",
            "A deedy to build automation prototype by Thursday\n"
          ]
        }
      ]
    },
    {
      "cell_type": "code",
      "source": [
        "# ✅ Step 7: Save to TXT, PDF, CSV\n",
        "with open(\"meeting_summary_tasks.txt\", \"w\", encoding=\"utf-8\") as f:\n",
        "    f.write(\"Transcript:\\n\" + transcript + \"\\n\\n\")\n",
        "    f.write(\"Summary + Tasks:\\n\" + output)"
      ],
      "metadata": {
        "id": "gBeQPj0PSEwG"
      },
      "execution_count": null,
      "outputs": []
    },
    {
      "cell_type": "code",
      "source": [
        "# Save as CSV\n",
        "with open(\"meeting_summary_tasks.csv\", \"w\", encoding=\"utf-8\") as f:\n",
        "    f.write(\"Task\\n\")\n",
        "    for line in output.split(\"\\n\"):\n",
        "        if line.strip().startswith(\"-\"):\n",
        "            f.write(line.strip(\"- \").strip() + \"\\n\")"
      ],
      "metadata": {
        "id": "ClyUiMLZSEt7"
      },
      "execution_count": null,
      "outputs": []
    },
    {
      "cell_type": "code",
      "source": [
        "!pip install fpdf"
      ],
      "metadata": {
        "colab": {
          "base_uri": "https://localhost:8080/"
        },
        "id": "olNCaNdpUotc",
        "outputId": "098cb461-bc5a-4c8e-9381-4bca6eeb6427"
      },
      "execution_count": null,
      "outputs": [
        {
          "output_type": "stream",
          "name": "stdout",
          "text": [
            "Collecting fpdf\n",
            "  Downloading fpdf-1.7.2.tar.gz (39 kB)\n",
            "  Preparing metadata (setup.py) ... \u001b[?25l\u001b[?25hdone\n",
            "Building wheels for collected packages: fpdf\n",
            "  Building wheel for fpdf (setup.py) ... \u001b[?25l\u001b[?25hdone\n",
            "  Created wheel for fpdf: filename=fpdf-1.7.2-py2.py3-none-any.whl size=40704 sha256=6fb7d6d64da21dbc812752e7e78a176aca66d6a4b8f456630735ccd024bce7ff\n",
            "  Stored in directory: /root/.cache/pip/wheels/65/4f/66/bbda9866da446a72e206d6484cd97381cbc7859a7068541c36\n",
            "Successfully built fpdf\n",
            "Installing collected packages: fpdf\n",
            "Successfully installed fpdf-1.7.2\n"
          ]
        }
      ]
    },
    {
      "cell_type": "code",
      "source": [
        "# Save as PDF\n",
        "from fpdf import FPDF\n",
        "from google.colab import files\n",
        "\n",
        "pdf = FPDF()\n",
        "pdf.add_page()\n",
        "pdf.set_font(\"Arial\", size=12)\n",
        "pdf.multi_cell(0, 10, \"Transcript:\\n\" + transcript + \"\\n\\nSummary + Tasks:\\n\" + output)\n",
        "pdf.output(\"meeting_summary_tasks.pdf\")\n",
        "\n",
        "files.download(\"meeting_summary_tasks.txt\")\n",
        "files.download(\"meeting_summary_tasks.csv\")\n",
        "files.download(\"meeting_summary_tasks.pdf\")"
      ],
      "metadata": {
        "colab": {
          "base_uri": "https://localhost:8080/",
          "height": 17
        },
        "id": "DzwDodfxSEr7",
        "outputId": "5e83b47c-d351-487d-af16-7d2649224740"
      },
      "execution_count": null,
      "outputs": [
        {
          "output_type": "display_data",
          "data": {
            "text/plain": [
              "<IPython.core.display.Javascript object>"
            ],
            "application/javascript": [
              "\n",
              "    async function download(id, filename, size) {\n",
              "      if (!google.colab.kernel.accessAllowed) {\n",
              "        return;\n",
              "      }\n",
              "      const div = document.createElement('div');\n",
              "      const label = document.createElement('label');\n",
              "      label.textContent = `Downloading \"${filename}\": `;\n",
              "      div.appendChild(label);\n",
              "      const progress = document.createElement('progress');\n",
              "      progress.max = size;\n",
              "      div.appendChild(progress);\n",
              "      document.body.appendChild(div);\n",
              "\n",
              "      const buffers = [];\n",
              "      let downloaded = 0;\n",
              "\n",
              "      const channel = await google.colab.kernel.comms.open(id);\n",
              "      // Send a message to notify the kernel that we're ready.\n",
              "      channel.send({})\n",
              "\n",
              "      for await (const message of channel.messages) {\n",
              "        // Send a message to notify the kernel that we're ready.\n",
              "        channel.send({})\n",
              "        if (message.buffers) {\n",
              "          for (const buffer of message.buffers) {\n",
              "            buffers.push(buffer);\n",
              "            downloaded += buffer.byteLength;\n",
              "            progress.value = downloaded;\n",
              "          }\n",
              "        }\n",
              "      }\n",
              "      const blob = new Blob(buffers, {type: 'application/binary'});\n",
              "      const a = document.createElement('a');\n",
              "      a.href = window.URL.createObjectURL(blob);\n",
              "      a.download = filename;\n",
              "      div.appendChild(a);\n",
              "      a.click();\n",
              "      div.remove();\n",
              "    }\n",
              "  "
            ]
          },
          "metadata": {}
        },
        {
          "output_type": "display_data",
          "data": {
            "text/plain": [
              "<IPython.core.display.Javascript object>"
            ],
            "application/javascript": [
              "download(\"download_d4396529-a3ef-419e-828b-b53e6db4063c\", \"meeting_summary_tasks.txt\", 290)"
            ]
          },
          "metadata": {}
        },
        {
          "output_type": "display_data",
          "data": {
            "text/plain": [
              "<IPython.core.display.Javascript object>"
            ],
            "application/javascript": [
              "\n",
              "    async function download(id, filename, size) {\n",
              "      if (!google.colab.kernel.accessAllowed) {\n",
              "        return;\n",
              "      }\n",
              "      const div = document.createElement('div');\n",
              "      const label = document.createElement('label');\n",
              "      label.textContent = `Downloading \"${filename}\": `;\n",
              "      div.appendChild(label);\n",
              "      const progress = document.createElement('progress');\n",
              "      progress.max = size;\n",
              "      div.appendChild(progress);\n",
              "      document.body.appendChild(div);\n",
              "\n",
              "      const buffers = [];\n",
              "      let downloaded = 0;\n",
              "\n",
              "      const channel = await google.colab.kernel.comms.open(id);\n",
              "      // Send a message to notify the kernel that we're ready.\n",
              "      channel.send({})\n",
              "\n",
              "      for await (const message of channel.messages) {\n",
              "        // Send a message to notify the kernel that we're ready.\n",
              "        channel.send({})\n",
              "        if (message.buffers) {\n",
              "          for (const buffer of message.buffers) {\n",
              "            buffers.push(buffer);\n",
              "            downloaded += buffer.byteLength;\n",
              "            progress.value = downloaded;\n",
              "          }\n",
              "        }\n",
              "      }\n",
              "      const blob = new Blob(buffers, {type: 'application/binary'});\n",
              "      const a = document.createElement('a');\n",
              "      a.href = window.URL.createObjectURL(blob);\n",
              "      a.download = filename;\n",
              "      div.appendChild(a);\n",
              "      a.click();\n",
              "      div.remove();\n",
              "    }\n",
              "  "
            ]
          },
          "metadata": {}
        },
        {
          "output_type": "display_data",
          "data": {
            "text/plain": [
              "<IPython.core.display.Javascript object>"
            ],
            "application/javascript": [
              "download(\"download_326179e4-6414-4aa6-8b25-0181512f9b32\", \"meeting_summary_tasks.csv\", 5)"
            ]
          },
          "metadata": {}
        },
        {
          "output_type": "display_data",
          "data": {
            "text/plain": [
              "<IPython.core.display.Javascript object>"
            ],
            "application/javascript": [
              "\n",
              "    async function download(id, filename, size) {\n",
              "      if (!google.colab.kernel.accessAllowed) {\n",
              "        return;\n",
              "      }\n",
              "      const div = document.createElement('div');\n",
              "      const label = document.createElement('label');\n",
              "      label.textContent = `Downloading \"${filename}\": `;\n",
              "      div.appendChild(label);\n",
              "      const progress = document.createElement('progress');\n",
              "      progress.max = size;\n",
              "      div.appendChild(progress);\n",
              "      document.body.appendChild(div);\n",
              "\n",
              "      const buffers = [];\n",
              "      let downloaded = 0;\n",
              "\n",
              "      const channel = await google.colab.kernel.comms.open(id);\n",
              "      // Send a message to notify the kernel that we're ready.\n",
              "      channel.send({})\n",
              "\n",
              "      for await (const message of channel.messages) {\n",
              "        // Send a message to notify the kernel that we're ready.\n",
              "        channel.send({})\n",
              "        if (message.buffers) {\n",
              "          for (const buffer of message.buffers) {\n",
              "            buffers.push(buffer);\n",
              "            downloaded += buffer.byteLength;\n",
              "            progress.value = downloaded;\n",
              "          }\n",
              "        }\n",
              "      }\n",
              "      const blob = new Blob(buffers, {type: 'application/binary'});\n",
              "      const a = document.createElement('a');\n",
              "      a.href = window.URL.createObjectURL(blob);\n",
              "      a.download = filename;\n",
              "      div.appendChild(a);\n",
              "      a.click();\n",
              "      div.remove();\n",
              "    }\n",
              "  "
            ]
          },
          "metadata": {}
        },
        {
          "output_type": "display_data",
          "data": {
            "text/plain": [
              "<IPython.core.display.Javascript object>"
            ],
            "application/javascript": [
              "download(\"download_a098b069-ba82-43ae-a5cb-736558222bc9\", \"meeting_summary_tasks.pdf\", 1157)"
            ]
          },
          "metadata": {}
        }
      ]
    },
    {
      "cell_type": "code",
      "source": [
        "!pip install cryptography"
      ],
      "metadata": {
        "colab": {
          "base_uri": "https://localhost:8080/"
        },
        "id": "0H0RXnHWU41P",
        "outputId": "b53f1c9a-d256-43e4-f35e-4c2f02cae048"
      },
      "execution_count": null,
      "outputs": [
        {
          "output_type": "stream",
          "name": "stdout",
          "text": [
            "Requirement already satisfied: cryptography in /usr/local/lib/python3.11/dist-packages (43.0.3)\n",
            "Requirement already satisfied: cffi>=1.12 in /usr/local/lib/python3.11/dist-packages (from cryptography) (1.17.1)\n",
            "Requirement already satisfied: pycparser in /usr/local/lib/python3.11/dist-packages (from cffi>=1.12->cryptography) (2.22)\n"
          ]
        }
      ]
    },
    {
      "cell_type": "code",
      "source": [
        "# ✅ Step 8: Encrypt Output Files\n",
        "from cryptography.fernet import Fernet\n",
        "import os\n",
        "\n",
        "key = Fernet.generate_key()\n",
        "cipher = Fernet(key)\n",
        "\n",
        "for file_name in [\"meeting_summary_tasks.txt\", \"meeting_summary_tasks.csv\", \"meeting_summary_tasks.pdf\"]:\n",
        "    with open(file_name, \"rb\") as f:\n",
        "        encrypted_data = cipher.encrypt(f.read())\n",
        "    with open(file_name + \".enc\", \"wb\") as ef:\n",
        "        ef.write(encrypted_data)\n",
        "    os.remove(file_name)  # Delete original\n",
        "\n",
        "print(\"\\n🔐 Files encrypted using AES-256 equivalent (Fernet). Key:\")\n",
        "print(key.decode())"
      ],
      "metadata": {
        "colab": {
          "base_uri": "https://localhost:8080/"
        },
        "id": "CrspYHMTSaJJ",
        "outputId": "8a04ccc4-b64a-48cc-f432-2117c92f584b"
      },
      "execution_count": null,
      "outputs": [
        {
          "output_type": "stream",
          "name": "stdout",
          "text": [
            "\n",
            "🔐 Files encrypted using AES-256 equivalent (Fernet). Key:\n",
            "QYRN7r3HBFUf19CyHwCOj5gEZrtwtQEVCGFzO76qW6Q=\n"
          ]
        }
      ]
    },
    {
      "cell_type": "code",
      "source": [
        "# ✅ Step 9: Delete Temp Cache\n",
        "if os.path.exists(audio_file):\n",
        "    os.remove(audio_file)\n",
        "print(\"\\n❌ Audio file deleted from cache.\")"
      ],
      "metadata": {
        "colab": {
          "base_uri": "https://localhost:8080/"
        },
        "id": "D0SqGdzlSdf-",
        "outputId": "750a18d7-7507-4286-8c69-dae2d92a9d49"
      },
      "execution_count": null,
      "outputs": [
        {
          "output_type": "stream",
          "name": "stdout",
          "text": [
            "\n",
            "❌ Audio file deleted from cache.\n"
          ]
        }
      ]
    },
    {
      "cell_type": "markdown",
      "source": [
        "**A smart meeting assistant system that:\n",
        "\n",
        "Records live or uploaded meetings\n",
        "\n",
        "Transcribes audio (speech-to-text)\n",
        "\n",
        "Summarizes the content (e.g., meeting minutes)\n",
        "\n",
        "Extracts tasks and deadlines\n",
        "\n",
        "Sends summaries and tasks to users via their preferred platforms\n",
        "\n",
        "✅ It helps teams avoid manual note-taking, keeps meetings actionable, and improves follow-up.\n",
        "\n",
        "**"
      ],
      "metadata": {
        "id": "N-W6y5G1YSkq"
      }
    },
    {
      "cell_type": "markdown",
      "source": [
        "📤 Export Options\n",
        "✅ Summary + Tasks saved as .txt, .csv, and .pdf\n",
        "\n",
        "✅ Auto-download in Colab\n",
        "\n",
        "🔒 Security & Privacy\n",
        "✅ AES-256 encryption (Fernet)\n",
        "\n",
        "✅ Cache audio auto-deletion after processing\n",
        "\n",
        "✅ Encrypted file output with downloadable key\n",
        "\n",
        "🧠 Improved Task Extraction\n",
        "✅ Fallback rule-based extractor using regex if LLM API fails\n",
        "\n",
        "🖥️ Offline Support Acknowledgement\n",
        "✅ Note included about using small/offline models (like TinyLlama) for summary generation in local environments\n",
        "\n",
        "\n"
      ],
      "metadata": {
        "id": "LFab0OeoXbHV"
      }
    }
  ]
}